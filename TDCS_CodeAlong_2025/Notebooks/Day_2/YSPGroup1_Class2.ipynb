{
 "cells": [
  {
   "cell_type": "markdown",
   "metadata": {
    "id": "oXA0w4KhBr6Y"
   },
   "source": [
    "# Python Exercise\n",
    "### Goal: For the questions below, using the information provided, write the python code that carries out the tasks.\n",
    "Using the concepts on arrays, slicing, and accessing that we learned today in the class, try meeting the goal! You can use comments (start comments with: #) to answer the non-python questions.\n",
    "\n",
    "Make sure you save your notebooks to not lose the progress! There are some tasks that might require you to use concepts you haven't yet learned. In that case, visit the notebook again after the next couple classes. Submit the notebooks as prompted only after you have finished all the problems."
   ]
  },
  {
   "cell_type": "markdown",
   "metadata": {
    "id": "J8n8HQFGnd1M"
   },
   "source": [
    "### Accessing elements of an list\n",
    "`usernames = [[], \"kunal\", \"akshay\", \"chiran\", [\"chintu\", \"bintu\", \"dintu\"], \"ali\", \"sam\", [\"thor\"], [], \"[foxy]\"]`\n",
    "\n",
    "**Task:**\n",
    "1. **Access and print the first username in the list.**\n",
    "2. **Check if the username [\"thor\"] is present in the list** \n",
    "3. **Get the index position of the username \"dintu\" in the list. Someone give us a hint that all names rhyming with \"intu\" are present in the 4th index position  -- use this to check if \"dintu\" is one of them.**\n",
    "\n",
    "You will first have to define the given variables yourself."
   ]
  },
  {
   "cell_type": "code",
   "execution_count": null,
   "metadata": {
    "id": "ivifQta35mVG"
   },
   "outputs": [],
   "source": [
    "usernames = [[], \"kunal\", \"akshay\", \"chiran\", [\"chintu\", \"bintu\", \"dintu\"], \"ali\", \"sam\", [\"thor\"], [], \"[foxy]\"]\n",
    "\n",
    "# your code goes here:\n",
    "print([\"thor\"] in usernames)\n",
    "for i in usernames:\n",
    "    if \"dintu\" in i:\n",
    "        print(usernames.index(i))\n",
    "for j in usernames[4]:\n",
    "    if \"intu\" in j:\n",
    "        k = j\n",
    "        if j ==\"dintu\":\n",
    "            print(\"dintu is one of them\")\n"
   ]
  },
  {
   "cell_type": "markdown",
   "metadata": {},
   "source": [
    "### Array functions\n",
    "`usernames = [[], \"kunal\", \"akshay\", \"chiran\", [\"chintu\", \"bintu\", \"dintu\"], \"ali\", \"sam\", [\"thor\"], [], \"[foxy]\"]`\n",
    "\n",
    "**Task:**\n",
    "1. **Reverse the given list.**\n",
    "2. **Slice usernames such that the output is as follows: `[\"chintu\", \"dintu\"]`.**\n",
    "\n",
    "For the following three tasks, do not use loops. You can try using if-else and list comprehension.\n",
    "\n",
    "3. **Reverse usernames such that all the elements in the list, including the nested lists, are reversed.**\n",
    "4. **Print usernames such that the elements of the nested lists are all in uppercase.**\n",
    "5. **Slice and access the elements of usernames such that the output is all the nested lists as individual elements of a new list.**"
   ]
  },
  {
   "cell_type": "code",
   "execution_count": 4,
   "metadata": {
    "id": "J8QASlxspI3h"
   },
   "outputs": [
    {
     "name": "stdout",
     "output_type": "stream",
     "text": [
      "['[foxy]', [], ['thor'], 'sam', 'ali', ['chintu', 'bintu', 'dintu'], 'chiran', 'akshay', 'kunal', []]\n",
      "['chintu', 'dintu']\n",
      "['[foxy]', [], ['thor'], 'sam', 'ali', ['dintu', 'bintu', 'chintu'], 'chiran', 'akshay', 'kunal', []]\n",
      "[[], ['dintu', 'bintu', 'chintu'], ['thor'], []]\n",
      "[[], 'kunal', 'akshay', 'chiran', ['CHINTU', 'BINTU', 'DINTU'], 'ali', 'sam', ['THOR'], [], ['FOXY']]\n"
     ]
    }
   ],
   "source": [
    "usernames = [[], \"kunal\", \"akshay\", \"chiran\", [\"chintu\", \"bintu\", \"dintu\"], \"ali\", \"sam\", [\"thor\"], [], \"[foxy]\"]\n",
    "\n",
    "# your code goes here:\n",
    "print(usernames[::-1])\n",
    "print(usernames[4][::2])\n",
    "usernames[4] = usernames[4][::-1]\n",
    "print(usernames[::-1])\n",
    "new_list = [usernames[0],usernames[4],usernames[7],usernames[8]]\n",
    "print(new_list)\n",
    "usernames[0] = []\n",
    "usernames[4] = [\"CHINTU\", \"BINTU\", \"DINTU\"]\n",
    "usernames[7] = [\"THOR\"]\n",
    "usernames[8] = []\n",
    "usernames[9] = [\"FOXY\"]\n",
    "print(usernames)\n",
    "\n",
    "\n",
    "\n",
    "\n"
   ]
  },
  {
   "cell_type": "markdown",
   "metadata": {
    "id": "-M8f5FvepJ45"
   },
   "source": [
    "### Slicing and accessing an array of characters (string)\n",
    "`bio = \"Dreaming of cold nights, warm lights, and European trains.\"`\n",
    "\n",
    "**Task:**\n",
    "1. **Use slicing to extract the following phrases from the variable _bio_.**\n",
    "    - _\"cold nights\"_\n",
    "    - _\"European trains\"_\n",
    "2. **Reverse the entire variable.**\n",
    "3. **Reverse and print the phrases mentioned in the first task.**\n",
    "4. **Print all the vowels in the order given.** Use if-else if you can. Do not use loops!"
   ]
  },
  {
   "cell_type": "code",
   "execution_count": 10,
   "metadata": {
    "id": "5u67n0WVpQu-"
   },
   "outputs": [
    {
     "name": "stdout",
     "output_type": "stream",
     "text": [
      "cold nights, European trains\n",
      ".sniart naeporuE dna ,sthgil mraw ,sthgin dloc fo gnimaerD\n",
      "sthgin dloc sniart naeporuE\n",
      "eaiooiaiauoeaa\n"
     ]
    }
   ],
   "source": [
    "bio = \"Dreaming of cold nights, warm lights, and European trains.\"\n",
    "print(bio[12:24],bio[42:57])\n",
    "print(bio[::-1])\n",
    "print(bio[22:11:-1],bio[56:41:-1])\n",
    "vowels = bio[2] + bio[3] + bio[5] + bio[9] + bio[13] + bio[18] +bio[26] +  bio[31] + bio[38] + bio[43] + bio[45] + bio[47] + bio[48] + bio[53]\n",
    "print(vowels)\n",
    "\n",
    "# your code goes here:"
   ]
  },
  {
   "cell_type": "markdown",
   "metadata": {},
   "source": [
    "### Functions and arrays\n",
    "\n",
    "**Task:**\n",
    "Define a function that takes _any_ array as an input and reverses it. It should also be such that if the given array has its elements as strings, it accesses the consonants, converts the case alternatively to lowercase or uppercase, and prints one final word containing all these characters. If the elements are integers, it finds the mod of each integer greater then 5 with respect to the number of elements in the array and prints out the sum."
   ]
  },
  {
   "cell_type": "code",
   "execution_count": 8,
   "metadata": {},
   "outputs": [
    {
     "name": "stdout",
     "output_type": "stream",
     "text": [
      "StRnG\n",
      "6\n",
      "['sTriNg', 7, 6, 5, 3, 2, 1]\n"
     ]
    }
   ],
   "source": [
    "# your code goes here:\n",
    "\n",
    "def func(array):\n",
    "    sum=0\n",
    "    for i in array:\n",
    "        if type(i)==str:\n",
    "            for j in i:\n",
    "                if j not in \"aeiou\":\n",
    "                    print(j.swapcase(),end=\"\")\n",
    "            print()\n",
    "        elif type(i)==int:\n",
    "            if i > 5 :\n",
    "                sum+=i%len(array)\n",
    "    print(sum)\n",
    "    print(array[::-1])\n",
    "\n",
    "func([1,2,3,5,6,7,\"sTriNg\"])"
   ]
  }
 ],
 "metadata": {
  "colab": {
   "provenance": []
  },
  "kernelspec": {
   "display_name": ".venv",
   "language": "python",
   "name": "python3"
  },
  "language_info": {
   "codemirror_mode": {
    "name": "ipython",
    "version": 3
   },
   "file_extension": ".py",
   "mimetype": "text/x-python",
   "name": "python",
   "nbconvert_exporter": "python",
   "pygments_lexer": "ipython3",
   "version": "3.12.10"
  }
 },
 "nbformat": 4,
 "nbformat_minor": 0
}
